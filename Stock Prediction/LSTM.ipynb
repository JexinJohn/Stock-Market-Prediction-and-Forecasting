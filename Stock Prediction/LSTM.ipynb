{
 "cells": [
  {
   "cell_type": "markdown",
   "metadata": {},
   "source": [
    "### Stock Market Prediction And Forecasting Using Stacked LSTM"
   ]
  },
  {
   "cell_type": "code",
   "execution_count": 28,
   "metadata": {},
   "outputs": [],
   "source": []
  },
  {
   "cell_type": "code",
   "execution_count": 1,
   "metadata": {},
   "outputs": [],
   "source": [
    "### Keras and Tensorflow >2.0"
   ]
  },
  {
   "cell_type": "code",
   "execution_count": 2,
   "metadata": {},
   "outputs": [],
   "source": [
    "### Data Collection\n",
    "import pandas_datareader as pdr\n",
    "key=\"7c85d3daa2f17e905336e8dcaf6a8d4bf86fd6ce\"\n",
    "import matplotlib.pyplot as plt\n",
    "import numpy as np"
   ]
  },
  {
   "cell_type": "code",
   "execution_count": 3,
   "metadata": {},
   "outputs": [],
   "source": [
    "df = pdr.get_data_tiingo('TSLA', api_key=key)"
   ]
  },
  {
   "cell_type": "code",
   "execution_count": 4,
   "metadata": {},
   "outputs": [],
   "source": [
    "df.to_csv('AAPL.csv')"
   ]
  },
  {
   "cell_type": "code",
   "execution_count": 5,
   "metadata": {},
   "outputs": [],
   "source": [
    "import pandas as pd"
   ]
  },
  {
   "cell_type": "code",
   "execution_count": 6,
   "metadata": {},
   "outputs": [],
   "source": [
    "df=pd.read_csv('AAPL.csv')\n"
   ]
  },
  {
   "cell_type": "code",
   "execution_count": 7,
   "metadata": {},
   "outputs": [],
   "source": [
    "df1=df.reset_index()['close']\n"
   ]
  },
  {
   "cell_type": "code",
   "execution_count": 8,
   "metadata": {},
   "outputs": [],
   "source": [
    "import matplotlib.pyplot as plt\n"
   ]
  },
  {
   "cell_type": "code",
   "execution_count": 9,
   "metadata": {},
   "outputs": [],
   "source": [
    "### LSTM are sensitive to the scale of the data. so we apply MinMax scaler "
   ]
  },
  {
   "cell_type": "code",
   "execution_count": 10,
   "metadata": {},
   "outputs": [],
   "source": [
    "import numpy as np"
   ]
  },
  {
   "cell_type": "code",
   "execution_count": 11,
   "metadata": {},
   "outputs": [],
   "source": [
    "from sklearn.preprocessing import MinMaxScaler\n",
    "scaler=MinMaxScaler(feature_range=(0,1))\n",
    "df1=scaler.fit_transform(np.array(df1).reshape(-1,1))"
   ]
  },
  {
   "cell_type": "code",
   "execution_count": 12,
   "metadata": {},
   "outputs": [],
   "source": [
    "##splitting dataset into train and test split\n",
    "training_size=int(len(df1)*0.65)\n",
    "test_size=len(df1)-training_size\n",
    "train_data=df1[0:training_size,:]\n",
    "test_data=df1[training_size:len(df1),:1]"
   ]
  },
  {
   "cell_type": "code",
   "execution_count": 13,
   "metadata": {},
   "outputs": [],
   "source": [
    "import numpy\n",
    "# convert an array of values into a dataset matrix\n",
    "def create_dataset(dataset, time_step=1):\n",
    "\tdataX, dataY = [], []\n",
    "\tfor i in range(len(dataset)-time_step-1):\n",
    "\t\ta = dataset[i:(i+time_step), 0]   ###i=0, 0,1,2,3-----99   100 \n",
    "\t\tdataX.append(a)\n",
    "\t\tdataY.append(dataset[i + time_step, 0])\n",
    "\treturn numpy.array(dataX), numpy.array(dataY)"
   ]
  },
  {
   "cell_type": "code",
   "execution_count": 14,
   "metadata": {},
   "outputs": [],
   "source": [
    "# reshape into X=t,t+1,t+2,t+3 and Y=t+4\n",
    "time_step = 100\n",
    "X_train, y_train = create_dataset(train_data, time_step)\n",
    "X_test, ytest = create_dataset(test_data, time_step)"
   ]
  },
  {
   "cell_type": "code",
   "execution_count": 15,
   "metadata": {},
   "outputs": [
    {
     "name": "stdout",
     "output_type": "stream",
     "text": [
      "(653, 100)\n",
      "(653,)\n"
     ]
    },
    {
     "data": {
      "text/plain": [
       "(None, None)"
      ]
     },
     "execution_count": 15,
     "metadata": {},
     "output_type": "execute_result"
    }
   ],
   "source": [
    "print(X_train.shape), print(y_train.shape)"
   ]
  },
  {
   "cell_type": "code",
   "execution_count": 16,
   "metadata": {},
   "outputs": [
    {
     "name": "stdout",
     "output_type": "stream",
     "text": [
      "(402, 100)\n",
      "(402,)\n"
     ]
    },
    {
     "data": {
      "text/plain": [
       "(None, None)"
      ]
     },
     "execution_count": 16,
     "metadata": {},
     "output_type": "execute_result"
    }
   ],
   "source": [
    "print(X_test.shape), print(ytest.shape)"
   ]
  },
  {
   "cell_type": "code",
   "execution_count": 17,
   "metadata": {},
   "outputs": [],
   "source": [
    "# reshape input to be [samples, time steps, features] which is required for LSTM\n",
    "X_train =X_train.reshape(X_train.shape[0],X_train.shape[1] , 1)\n",
    "X_test = X_test.reshape(X_test.shape[0],X_test.shape[1] , 1)"
   ]
  },
  {
   "cell_type": "code",
   "execution_count": 18,
   "metadata": {},
   "outputs": [],
   "source": [
    "### Create the Stacked LSTM model\n",
    "from tensorflow.keras.models import Sequential\n",
    "from tensorflow.keras.layers import Dense\n",
    "from tensorflow.keras.layers import LSTM"
   ]
  },
  {
   "cell_type": "code",
   "execution_count": 19,
   "metadata": {},
   "outputs": [],
   "source": [
    "model=Sequential()\n",
    "model.add(LSTM(50,return_sequences=True,input_shape=(100,1)))\n",
    "model.add(LSTM(50,return_sequences=True))\n",
    "model.add(LSTM(50))\n",
    "model.add(Dense(1))\n",
    "model.compile(loss='mean_squared_error',optimizer='adam')\n"
   ]
  },
  {
   "cell_type": "code",
   "execution_count": 20,
   "metadata": {},
   "outputs": [
    {
     "name": "stdout",
     "output_type": "stream",
     "text": [
      "Epoch 1/100\n",
      "11/11 [==============================] - 3s 240ms/step - loss: 0.0012 - val_loss: 0.0516\n",
      "Epoch 2/100\n",
      "11/11 [==============================] - 1s 115ms/step - loss: 3.8918e-04 - val_loss: 0.0399\n",
      "Epoch 3/100\n",
      "11/11 [==============================] - 1s 112ms/step - loss: 2.6948e-04 - val_loss: 0.0295\n",
      "Epoch 4/100\n",
      "11/11 [==============================] - 1s 133ms/step - loss: 1.7758e-04 - val_loss: 0.0187\n",
      "Epoch 5/100\n",
      "11/11 [==============================] - 1s 121ms/step - loss: 1.2907e-04 - val_loss: 0.0135\n",
      "Epoch 6/100\n",
      "11/11 [==============================] - 1s 127ms/step - loss: 1.3652e-04 - val_loss: 0.0146\n",
      "Epoch 7/100\n",
      "11/11 [==============================] - 1s 115ms/step - loss: 1.2311e-04 - val_loss: 0.0149\n",
      "Epoch 8/100\n",
      "11/11 [==============================] - 1s 118ms/step - loss: 1.1913e-04 - val_loss: 0.0138\n",
      "Epoch 9/100\n",
      "11/11 [==============================] - 1s 124ms/step - loss: 1.1461e-04 - val_loss: 0.0134\n",
      "Epoch 10/100\n",
      "11/11 [==============================] - 2s 165ms/step - loss: 1.1961e-04 - val_loss: 0.0131\n",
      "Epoch 11/100\n",
      "11/11 [==============================] - 2s 137ms/step - loss: 1.1740e-04 - val_loss: 0.0121\n",
      "Epoch 12/100\n",
      "11/11 [==============================] - 2s 163ms/step - loss: 1.0222e-04 - val_loss: 0.0122\n",
      "Epoch 13/100\n",
      "11/11 [==============================] - 2s 156ms/step - loss: 1.0639e-04 - val_loss: 0.0119\n",
      "Epoch 14/100\n",
      "11/11 [==============================] - 2s 156ms/step - loss: 1.1330e-04 - val_loss: 0.0128\n",
      "Epoch 15/100\n",
      "11/11 [==============================] - 2s 143ms/step - loss: 9.5430e-05 - val_loss: 0.0115\n",
      "Epoch 16/100\n",
      "11/11 [==============================] - 2s 158ms/step - loss: 9.5375e-05 - val_loss: 0.0111\n",
      "Epoch 17/100\n",
      "11/11 [==============================] - 1s 131ms/step - loss: 9.2412e-05 - val_loss: 0.0111\n",
      "Epoch 18/100\n",
      "11/11 [==============================] - 1s 134ms/step - loss: 8.9945e-05 - val_loss: 0.0109\n",
      "Epoch 19/100\n",
      "11/11 [==============================] - 1s 128ms/step - loss: 9.6153e-05 - val_loss: 0.0112\n",
      "Epoch 20/100\n",
      "11/11 [==============================] - 1s 129ms/step - loss: 9.0194e-05 - val_loss: 0.0106\n",
      "Epoch 21/100\n",
      "11/11 [==============================] - 1s 126ms/step - loss: 8.8446e-05 - val_loss: 0.0105\n",
      "Epoch 22/100\n",
      "11/11 [==============================] - 1s 128ms/step - loss: 8.2097e-05 - val_loss: 0.0103\n",
      "Epoch 23/100\n",
      "11/11 [==============================] - 1s 123ms/step - loss: 8.6730e-05 - val_loss: 0.0096\n",
      "Epoch 24/100\n",
      "11/11 [==============================] - 1s 133ms/step - loss: 9.3395e-05 - val_loss: 0.0106\n",
      "Epoch 25/100\n",
      "11/11 [==============================] - 1s 128ms/step - loss: 8.4560e-05 - val_loss: 0.0099\n",
      "Epoch 26/100\n",
      "11/11 [==============================] - 1s 124ms/step - loss: 7.7463e-05 - val_loss: 0.0102\n",
      "Epoch 27/100\n",
      "11/11 [==============================] - 1s 123ms/step - loss: 7.6768e-05 - val_loss: 0.0093\n",
      "Epoch 28/100\n",
      "11/11 [==============================] - 1s 124ms/step - loss: 7.9412e-05 - val_loss: 0.0104\n",
      "Epoch 29/100\n",
      "11/11 [==============================] - 1s 123ms/step - loss: 7.9120e-05 - val_loss: 0.0086\n",
      "Epoch 30/100\n",
      "11/11 [==============================] - 1s 124ms/step - loss: 7.3846e-05 - val_loss: 0.0093\n",
      "Epoch 31/100\n",
      "11/11 [==============================] - 1s 123ms/step - loss: 7.4375e-05 - val_loss: 0.0089\n",
      "Epoch 32/100\n",
      "11/11 [==============================] - 1s 123ms/step - loss: 7.3777e-05 - val_loss: 0.0094\n",
      "Epoch 33/100\n",
      "11/11 [==============================] - 1s 123ms/step - loss: 8.3014e-05 - val_loss: 0.0094\n",
      "Epoch 34/100\n",
      "11/11 [==============================] - 1s 126ms/step - loss: 7.2735e-05 - val_loss: 0.0082\n",
      "Epoch 35/100\n",
      "11/11 [==============================] - 1s 128ms/step - loss: 6.8680e-05 - val_loss: 0.0091\n",
      "Epoch 36/100\n",
      "11/11 [==============================] - 1s 133ms/step - loss: 6.2960e-05 - val_loss: 0.0082\n",
      "Epoch 37/100\n",
      "11/11 [==============================] - 2s 139ms/step - loss: 6.7684e-05 - val_loss: 0.0090\n",
      "Epoch 38/100\n",
      "11/11 [==============================] - 2s 141ms/step - loss: 6.2297e-05 - val_loss: 0.0076\n",
      "Epoch 39/100\n",
      "11/11 [==============================] - 2s 143ms/step - loss: 6.0851e-05 - val_loss: 0.0083\n",
      "Epoch 40/100\n",
      "11/11 [==============================] - 2s 145ms/step - loss: 5.8970e-05 - val_loss: 0.0078\n",
      "Epoch 41/100\n",
      "11/11 [==============================] - 2s 151ms/step - loss: 6.4651e-05 - val_loss: 0.0082\n",
      "Epoch 42/100\n",
      "11/11 [==============================] - 1s 135ms/step - loss: 5.8338e-05 - val_loss: 0.0078\n",
      "Epoch 43/100\n",
      "11/11 [==============================] - 2s 154ms/step - loss: 5.4015e-05 - val_loss: 0.0075\n",
      "Epoch 44/100\n",
      "11/11 [==============================] - 2s 151ms/step - loss: 5.2654e-05 - val_loss: 0.0078\n",
      "Epoch 45/100\n",
      "11/11 [==============================] - 1s 127ms/step - loss: 5.2629e-05 - val_loss: 0.0077\n",
      "Epoch 46/100\n",
      "11/11 [==============================] - 1s 121ms/step - loss: 5.6151e-05 - val_loss: 0.0078\n",
      "Epoch 47/100\n",
      "11/11 [==============================] - 1s 128ms/step - loss: 5.1720e-05 - val_loss: 0.0069\n",
      "Epoch 48/100\n",
      "11/11 [==============================] - 1s 126ms/step - loss: 5.0692e-05 - val_loss: 0.0077\n",
      "Epoch 49/100\n",
      "11/11 [==============================] - 2s 138ms/step - loss: 5.1671e-05 - val_loss: 0.0073\n",
      "Epoch 50/100\n",
      "11/11 [==============================] - 2s 139ms/step - loss: 4.8532e-05 - val_loss: 0.0073\n",
      "Epoch 51/100\n",
      "11/11 [==============================] - 1s 131ms/step - loss: 4.7547e-05 - val_loss: 0.0072\n",
      "Epoch 52/100\n",
      "11/11 [==============================] - 2s 146ms/step - loss: 5.0144e-05 - val_loss: 0.0071\n",
      "Epoch 53/100\n",
      "11/11 [==============================] - 2s 139ms/step - loss: 4.7685e-05 - val_loss: 0.0063\n",
      "Epoch 54/100\n",
      "11/11 [==============================] - 1s 135ms/step - loss: 5.2326e-05 - val_loss: 0.0073\n",
      "Epoch 55/100\n",
      "11/11 [==============================] - 1s 134ms/step - loss: 5.2542e-05 - val_loss: 0.0076\n",
      "Epoch 56/100\n",
      "11/11 [==============================] - 1s 117ms/step - loss: 4.8313e-05 - val_loss: 0.0062\n",
      "Epoch 57/100\n",
      "11/11 [==============================] - 1s 109ms/step - loss: 5.3597e-05 - val_loss: 0.0068\n",
      "Epoch 58/100\n",
      "11/11 [==============================] - 1s 111ms/step - loss: 4.6148e-05 - val_loss: 0.0066\n",
      "Epoch 59/100\n",
      "11/11 [==============================] - 1s 115ms/step - loss: 4.7069e-05 - val_loss: 0.0062\n",
      "Epoch 60/100\n",
      "11/11 [==============================] - 1s 116ms/step - loss: 5.1983e-05 - val_loss: 0.0076\n",
      "Epoch 61/100\n",
      "11/11 [==============================] - 1s 116ms/step - loss: 4.7750e-05 - val_loss: 0.0069\n",
      "Epoch 62/100\n",
      "11/11 [==============================] - 1s 125ms/step - loss: 4.4212e-05 - val_loss: 0.0066\n",
      "Epoch 63/100\n",
      "11/11 [==============================] - 1s 113ms/step - loss: 4.1823e-05 - val_loss: 0.0065\n",
      "Epoch 64/100\n",
      "11/11 [==============================] - 1s 113ms/step - loss: 4.0680e-05 - val_loss: 0.0058\n",
      "Epoch 65/100\n",
      "11/11 [==============================] - 1s 111ms/step - loss: 4.1859e-05 - val_loss: 0.0069\n",
      "Epoch 66/100\n",
      "11/11 [==============================] - 1s 111ms/step - loss: 4.5335e-05 - val_loss: 0.0066\n",
      "Epoch 67/100\n",
      "11/11 [==============================] - 1s 109ms/step - loss: 3.9564e-05 - val_loss: 0.0054\n",
      "Epoch 68/100\n",
      "11/11 [==============================] - 1s 122ms/step - loss: 4.3580e-05 - val_loss: 0.0077\n",
      "Epoch 69/100\n",
      "11/11 [==============================] - 1s 110ms/step - loss: 4.1532e-05 - val_loss: 0.0054\n",
      "Epoch 70/100\n",
      "11/11 [==============================] - 1s 110ms/step - loss: 4.5855e-05 - val_loss: 0.0073\n",
      "Epoch 71/100\n",
      "11/11 [==============================] - 1s 111ms/step - loss: 4.3164e-05 - val_loss: 0.0064\n",
      "Epoch 72/100\n",
      "11/11 [==============================] - 1s 119ms/step - loss: 4.2273e-05 - val_loss: 0.0059\n",
      "Epoch 73/100\n",
      "11/11 [==============================] - 1s 109ms/step - loss: 3.9175e-05 - val_loss: 0.0064\n",
      "Epoch 74/100\n",
      "11/11 [==============================] - 1s 111ms/step - loss: 3.7800e-05 - val_loss: 0.0065\n",
      "Epoch 75/100\n",
      "11/11 [==============================] - 1s 111ms/step - loss: 3.8879e-05 - val_loss: 0.0059\n",
      "Epoch 76/100\n",
      "11/11 [==============================] - 2s 148ms/step - loss: 3.6493e-05 - val_loss: 0.0065\n",
      "Epoch 77/100\n",
      "11/11 [==============================] - 2s 139ms/step - loss: 3.4524e-05 - val_loss: 0.0054\n",
      "Epoch 78/100\n"
     ]
    },
    {
     "name": "stdout",
     "output_type": "stream",
     "text": [
      "11/11 [==============================] - 1s 118ms/step - loss: 4.0331e-05 - val_loss: 0.0073\n",
      "Epoch 79/100\n",
      "11/11 [==============================] - 1s 120ms/step - loss: 3.8896e-05 - val_loss: 0.0057\n",
      "Epoch 80/100\n",
      "11/11 [==============================] - 1s 119ms/step - loss: 3.4927e-05 - val_loss: 0.0060\n",
      "Epoch 81/100\n",
      "11/11 [==============================] - 1s 108ms/step - loss: 3.3561e-05 - val_loss: 0.0060\n",
      "Epoch 82/100\n",
      "11/11 [==============================] - 1s 108ms/step - loss: 3.4254e-05 - val_loss: 0.0058\n",
      "Epoch 83/100\n",
      "11/11 [==============================] - 1s 109ms/step - loss: 3.2947e-05 - val_loss: 0.0059\n",
      "Epoch 84/100\n",
      "11/11 [==============================] - 1s 108ms/step - loss: 3.4140e-05 - val_loss: 0.0063\n",
      "Epoch 85/100\n",
      "11/11 [==============================] - 1s 108ms/step - loss: 3.2573e-05 - val_loss: 0.0060\n",
      "Epoch 86/100\n",
      "11/11 [==============================] - 1s 110ms/step - loss: 3.3137e-05 - val_loss: 0.0058\n",
      "Epoch 87/100\n",
      "11/11 [==============================] - 1s 110ms/step - loss: 3.2030e-05 - val_loss: 0.0055\n",
      "Epoch 88/100\n",
      "11/11 [==============================] - 1s 108ms/step - loss: 3.1072e-05 - val_loss: 0.0060\n",
      "Epoch 89/100\n",
      "11/11 [==============================] - 1s 113ms/step - loss: 3.0879e-05 - val_loss: 0.0056\n",
      "Epoch 90/100\n",
      "11/11 [==============================] - 1s 110ms/step - loss: 3.6139e-05 - val_loss: 0.0068\n",
      "Epoch 91/100\n",
      "11/11 [==============================] - 1s 110ms/step - loss: 3.3766e-05 - val_loss: 0.0054\n",
      "Epoch 92/100\n",
      "11/11 [==============================] - 1s 110ms/step - loss: 3.0724e-05 - val_loss: 0.0054\n",
      "Epoch 93/100\n",
      "11/11 [==============================] - 1s 110ms/step - loss: 3.1492e-05 - val_loss: 0.0059\n",
      "Epoch 94/100\n",
      "11/11 [==============================] - 1s 110ms/step - loss: 3.2700e-05 - val_loss: 0.0057\n",
      "Epoch 95/100\n",
      "11/11 [==============================] - 1s 110ms/step - loss: 3.4328e-05 - val_loss: 0.0054\n",
      "Epoch 96/100\n",
      "11/11 [==============================] - 1s 110ms/step - loss: 3.3569e-05 - val_loss: 0.0062\n",
      "Epoch 97/100\n",
      "11/11 [==============================] - 1s 110ms/step - loss: 3.2797e-05 - val_loss: 0.0059\n",
      "Epoch 98/100\n",
      "11/11 [==============================] - 1s 110ms/step - loss: 2.9022e-05 - val_loss: 0.0052\n",
      "Epoch 99/100\n",
      "11/11 [==============================] - 1s 109ms/step - loss: 2.8309e-05 - val_loss: 0.0057\n",
      "Epoch 100/100\n",
      "11/11 [==============================] - 1s 109ms/step - loss: 2.8518e-05 - val_loss: 0.0053\n"
     ]
    },
    {
     "data": {
      "text/plain": [
       "<tensorflow.python.keras.callbacks.History at 0x1c619798310>"
      ]
     },
     "execution_count": 20,
     "metadata": {},
     "output_type": "execute_result"
    }
   ],
   "source": [
    "model.fit(X_train,y_train,validation_data=(X_test,ytest),epochs=100,batch_size=64,verbose=1)"
   ]
  },
  {
   "cell_type": "code",
   "execution_count": 21,
   "metadata": {},
   "outputs": [],
   "source": [
    "import tensorflow as tf\n",
    "import math\n",
    "from sklearn.metrics import mean_squared_error"
   ]
  },
  {
   "cell_type": "code",
   "execution_count": 22,
   "metadata": {},
   "outputs": [
    {
     "data": {
      "text/plain": [
       "'2.3.0'"
      ]
     },
     "execution_count": 22,
     "metadata": {},
     "output_type": "execute_result"
    }
   ],
   "source": [
    "tf.__version__"
   ]
  },
  {
   "cell_type": "code",
   "execution_count": 23,
   "metadata": {},
   "outputs": [],
   "source": [
    "### Lets Do the prediction and check performance metrics\n",
    "train_predict=model.predict(X_train)\n",
    "test_predict=model.predict(X_test)"
   ]
  },
  {
   "cell_type": "code",
   "execution_count": 24,
   "metadata": {},
   "outputs": [],
   "source": [
    "##Transformback to original form\n",
    "train_predict=scaler.inverse_transform(train_predict)\n",
    "test_predict=scaler.inverse_transform(test_predict)\n",
    "x=math.sqrt(mean_squared_error(ytest,test_predict))\n",
    "\n",
    "\n"
   ]
  },
  {
   "cell_type": "code",
   "execution_count": 26,
   "metadata": {},
   "outputs": [],
   "source": [
    "### Calculate RMSE performance metrics\n",
    "import math\n",
    "from sklearn.metrics import mean_squared_error\n"
   ]
  },
  {
   "cell_type": "code",
   "execution_count": 27,
   "metadata": {},
   "outputs": [
    {
     "name": "stdout",
     "output_type": "stream",
     "text": [
      "Root Mean Square Value of the Test Data using LSTM \n",
      " 26.766544240839423\n",
      "Stored 'lstmValue' (float)\n"
     ]
    }
   ],
   "source": [
    "print(\"Root Mean Square Value of the Test Data using LSTM \\n\",math.sqrt(x))\n",
    "lstmValue = math.sqrt(x)\n",
    "%store lstmValue"
   ]
  },
  {
   "cell_type": "code",
   "execution_count": 28,
   "metadata": {},
   "outputs": [
    {
     "data": {
      "image/png": "[encoded data removed]",
      "text/plain": [
       "<Figure size 432x288 with 1 Axes>"
      ]
     },
     "metadata": {
      "needs_background": "light"
     },
     "output_type": "display_data"
    }
   ],
   "source": [
    "### Plotting \n",
    "# shift train predictions for plotting\n",
    "look_back=100\n",
    "trainPredictPlot = numpy.empty_like(df1)\n",
    "trainPredictPlot[:, :] = np.nan\n",
    "trainPredictPlot[look_back:len(train_predict)+look_back, :] = train_predict\n",
    "# shift test predictions for plotting\n",
    "testPredictPlot = numpy.empty_like(df1)\n",
    "testPredictPlot[:, :] = numpy.nan\n",
    "testPredictPlot[len(train_predict)+(look_back*2)+1:len(df1)-1, :] = test_predict\n",
    "# plot baseline and predictions\n",
    "plt.plot(scaler.inverse_transform(df1))\n",
    "plt.plot(trainPredictPlot)\n",
    "plt.plot(testPredictPlot)\n",
    "plt.title('TESLA Prices Prediction')\n",
    "plt.xlabel('Days')\n",
    "plt.ylabel('Prices')\n",
    "plt.savefig('lstm.png')\n",
    "plt.show()\n"
   ]
  },
  {
   "cell_type": "code",
   "execution_count": null,
   "metadata": {},
   "outputs": [],
   "source": []
  },
  {
   "cell_type": "code",
   "execution_count": 56,
   "metadata": {},
   "outputs": [],
   "source": []
  },
  {
   "cell_type": "code",
   "execution_count": 56,
   "metadata": {},
   "outputs": [],
   "source": []
  }
 ],
 "metadata": {
  "kernelspec": {
   "display_name": "Python 3",
   "language": "python",
   "name": "python3"
  },
  "language_info": {
   "codemirror_mode": {
    "name": "ipython",
    "version": 3
   },
   "file_extension": ".py",
   "mimetype": "text/x-python",
   "name": "python",
   "nbconvert_exporter": "python",
   "pygments_lexer": "ipython3",
   "version": "3.8.8"
  }
 },
 "nbformat": 4,
 "nbformat_minor": 2
}
